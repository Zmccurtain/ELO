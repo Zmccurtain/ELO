{
 "cells": [
  {
   "cell_type": "code",
   "execution_count": 12,
   "metadata": {},
   "outputs": [],
   "source": [
    "\n",
    "roster = {\n",
    "    \"10slayer\" : 1300,\n",
    "    \"aijinxed\" : 900,\n",
    "    \"AmericanHussar\" : 1200,\n",
    "    \"Cade\" : 1300,\n",
    "    \"chibikitty\" : 800,\n",
    "    \"ColinJH\" : 1000,\n",
    "    \"CyborgSteve\" : 1600,\n",
    "    \"Daniel\" : 1700,\n",
    "    \"GentileBanan\" : 800,\n",
    "    \"Imperialpayload\" : 800,\n",
    "    \"Inugami\" : 1300,\n",
    "    \"Ksiu\" : 2300,\n",
    "    \"SexiMexi247\" : 1400,\n",
    "    \"Trick Live\" : 1400,\n",
    "    \"Xerelic\" : 1400,\n",
    "    \"Kevalon\" : 1400\n",
    "}\n",
    "\n",
    "x = open(\"roster.txt\", \"w\")\n",
    "for i in roster:\n",
    "    x.write(i + \":\" + str(roster[i])+\"\\n\")\n",
    "\n",
    "x.close()\n",
    "   \n",
    "\n"
   ]
  }
 ],
 "metadata": {
  "kernelspec": {
   "display_name": "Python 3",
   "language": "python",
   "name": "python3"
  },
  "language_info": {
   "codemirror_mode": {
    "name": "ipython",
    "version": 3
   },
   "file_extension": ".py",
   "mimetype": "text/x-python",
   "name": "python",
   "nbconvert_exporter": "python",
   "pygments_lexer": "ipython3",
   "version": "3.8.5"
  }
 },
 "nbformat": 4,
 "nbformat_minor": 4
}
