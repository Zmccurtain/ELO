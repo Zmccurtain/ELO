{
 "cells": [
  {
   "cell_type": "code",
   "execution_count": 43,
   "metadata": {},
   "outputs": [],
   "source": [
    "from PIL import Image, ImageDraw\n",
    "import tkinter as tk"
   ]
  },
  {
   "cell_type": "code",
   "execution_count": 98,
   "metadata": {},
   "outputs": [],
   "source": [
    "Crimson = (169, 5, 51)\n",
    "lightCrimson = (237, 23, 76)\n",
    "darkCrimson = (119, 13, 41)\n",
    "Midnight = (0,91,148)\n",
    "DarkMidnight = (0,57,99)\n",
    "\n",
    "img = Image.new('RGB', (1000, 1000), color = DarkMidnight)\n",
    "draw = ImageDraw.Draw(img)\n",
    "\n",
    "draw.rectangle([(100,100),(900,200)], Crimson, \"black\")\n",
    "\n",
    "for i in range(50, 750, 50):\n",
    "    if i % 100 == 0:\n",
    "        draw.rectangle([(100,200+(i-50)),(500,200+i)], (173, 167, 164), \"black\")\n",
    "    else:\n",
    "        draw.rectangle([(100,200+(i-50)),(500,200+i)], \"white\", \"black\")\n",
    "for i in range(50, 750, 50):\n",
    "    if i % 100 == 0:\n",
    "        draw.rectangle([(500,200+(i-50)),(900,200+i)], (173, 167, 164), \"black\")\n",
    "    else:\n",
    "        draw.rectangle([(500,200+(i-50)),(900,200+i)], \"white\", \"black\")\n",
    "\n",
    "img.show()"
   ]
  },
  {
   "cell_type": "code",
   "execution_count": 97,
   "metadata": {},
   "outputs": [],
   "source": [
    "Crimson = (169, 5, 51)\n",
    "lightCrimson = (237, 23, 76)\n",
    "darkCrimson = (119, 13, 41)\n",
    "Midnight = (0,91,148)\n",
    "DarkMidnight = (0,57,99)\n",
    "\n",
    "img = Image.new('RGB', (1000, 1000), color = DarkMidnight)\n",
    "draw = ImageDraw.Draw(img)\n",
    "draw.rectangle([(85,85),(915,915)], (50,50,50))\n",
    "\n",
    "draw.rectangle([(100,100),(900,200)], Crimson, \"black\")\n",
    "\n",
    "for i in range(50, 750, 50):\n",
    "    if i % 100 == 0:\n",
    "        draw.rectangle([(100,200+(i-50)),(500,200+i)], (173, 167, 164), \"black\")\n",
    "    else:\n",
    "        draw.rectangle([(100,200+(i-50)),(500,200+i)], \"white\", \"black\")\n",
    "for i in range(50, 750, 50):\n",
    "    if i % 100 == 0:\n",
    "        draw.rectangle([(500,200+(i-50)),(900,200+i)], (173, 167, 164), \"black\")\n",
    "    else:\n",
    "        draw.rectangle([(500,200+(i-50)),(900,200+i)], \"white\", \"black\")\n",
    "\n",
    "img.show()"
   ]
  }
 ],
 "metadata": {
  "kernelspec": {
   "display_name": "Python 3",
   "language": "python",
   "name": "python3"
  },
  "language_info": {
   "codemirror_mode": {
    "name": "ipython",
    "version": 3
   },
   "file_extension": ".py",
   "mimetype": "text/x-python",
   "name": "python",
   "nbconvert_exporter": "python",
   "pygments_lexer": "ipython3",
   "version": "3.8.5"
  }
 },
 "nbformat": 4,
 "nbformat_minor": 4
}
