{
 "cells": [
  {
   "cell_type": "code",
   "execution_count": 17,
   "metadata": {
    "scrolled": true
   },
   "outputs": [],
   "source": [
    "import math\n",
    "import random\n",
    "import matplotlib.pyplot as plt\n",
    "import numpy as np\n",
    "import Roster"
   ]
  },
  {
   "cell_type": "code",
   "execution_count": 18,
   "metadata": {},
   "outputs": [],
   "source": [
    "def ELO(Won, Lost, first=False):\n",
    "    roster = Roster.oRoster(\"c\")\n",
    "    if first:\n",
    "        Roster.Edit(\"l\", roster)\n",
    "    winTotal = 0\n",
    "    for i in Won:\n",
    "        if i in roster:\n",
    "            winTotal += roster[i]\n",
    "        else:\n",
    "            winTotal += 1000\n",
    "    winAverage = winTotal/5\n",
    "    \n",
    "    \n",
    "    \n",
    "    loseTotal = 0\n",
    "    for i in Lost:\n",
    "        if i in roster:\n",
    "            loseTotal += roster[i]\n",
    "        else:\n",
    "            loseTotal += 1000\n",
    "    loseAverage = loseTotal/5\n",
    "    \n",
    "    \n",
    "    \n",
    "    difference = loseAverage - winAverage\n",
    "    for i in Won:\n",
    "        if i in roster:\n",
    "            roster[i] += f(difference)\n",
    "    for i in Lost:\n",
    "        if i in roster:\n",
    "            roster[i] -= f(difference)\n",
    "    Roster.Edit(\"c\", roster)"
   ]
  },
  {
   "cell_type": "code",
   "execution_count": 19,
   "metadata": {},
   "outputs": [],
   "source": [
    "def f(x):\n",
    "    #return (math.log(abs(x)+1) *20 + 30) - (math.log(( (abs(x)-x) /2)+1)*24 - 20)\n",
    "    return (x**3)/400000000 + x**2/100000 + x/10 + 200"
   ]
  },
  {
   "cell_type": "code",
   "execution_count": null,
   "metadata": {
    "scrolled": true
   },
   "outputs": [],
   "source": []
  },
  {
   "cell_type": "code",
   "execution_count": null,
   "metadata": {},
   "outputs": [],
   "source": []
  },
  {
   "cell_type": "code",
   "execution_count": 20,
   "metadata": {},
   "outputs": [
    {
     "name": "stdout",
     "output_type": "stream",
     "text": [
      "{'10slayer': 1300.0, 'AmericanHussar': 1200.0, 'chibikitty': 800.0, 'ColinJH': 1000.0, 'CyborgSteve': 1600.0, 'GentileBanan': 900.0, 'Imperialpayload': 800.0, 'Inugami': 1300.0, 'SexiMexi247': 1400.0, 'Trick Live': 1400.0, 'Xerelic': 1400.0, 'Kevalon': 1400.0, 'eledessil': 1400.0, 'maxorri': 400.0, 'Kreinash': 1200.0, 'Nraddlygew': 1000.0, 'Azaki': 1200.0, 'D3F3CTIVE': 1300.0, 'Spaz': 500.0, 'YourLocalThiccBoi': 500.0, 'PhantasticTigers': 800.0, 'Star Rise': 1400.0, 'Xlerate': 1200.0, 'QuadNut420': 600.0, 'Wilmeister': 400.0, 'Second Shot': 1700.0, 'HunterSquared': 1200.0, 'oink oink': 1300.0}\n",
      "{'10slayer': 1300.0, 'AmericanHussar': 1200.0, 'chibikitty': 617.69058, 'ColinJH': 1000.0, 'CyborgSteve': 1417.69058, 'GentileBanan': 1082.30942, 'Imperialpayload': 800.0, 'Inugami': 1482.30942, 'SexiMexi247': 1400.0, 'Trick Live': 1400.0, 'Xerelic': 1400.0, 'Kevalon': 1582.30942, 'eledessil': 1582.30942, 'maxorri': 217.69058, 'Kreinash': 1382.30942, 'Nraddlygew': 1000.0, 'Azaki': 1017.69058, 'D3F3CTIVE': 1117.69058, 'Spaz': 500.0, 'YourLocalThiccBoi': 500.0, 'PhantasticTigers': 800.0, 'Star Rise': 1400.0, 'Xlerate': 1200.0, 'QuadNut420': 600.0, 'Wilmeister': 400.0, 'Second Shot': 1700.0, 'HunterSquared': 1200.0, 'oink oink': 1300.0}\n",
      "{'10slayer': 1300.0, 'AmericanHussar': 1200.0, 'chibikitty': 404.21564443422, 'ColinJH': 1000.0, 'CyborgSteve': 1631.16551556578, 'GentileBanan': 1295.78435556578, 'Imperialpayload': 800.0, 'Inugami': 1268.83448443422, 'SexiMexi247': 1400.0, 'Trick Live': 1400.0, 'Xerelic': 1400.0, 'Kevalon': 1795.78435556578, 'eledessil': 1368.83448443422, 'maxorri': 431.16551556577997, 'Kreinash': 1168.83448443422, 'Nraddlygew': 1000.0, 'Azaki': 804.2156444342199, 'D3F3CTIVE': 1331.16551556578, 'Spaz': 500.0, 'YourLocalThiccBoi': 500.0, 'PhantasticTigers': 800.0, 'Star Rise': 1400.0, 'Xlerate': 1200.0, 'QuadNut420': 600.0, 'Wilmeister': 400.0, 'Second Shot': 1700.0, 'HunterSquared': 1200.0, 'oink oink': 1300.0}\n",
      "{'10slayer': 1109.1630970946871, 'AmericanHussar': 1009.1630970946871, 'chibikitty': 213.37874152890717, 'ColinJH': 1000.0, 'CyborgSteve': 1822.0024184710928, 'GentileBanan': 1486.621258471093, 'Imperialpayload': 800.0, 'Inugami': 1459.6713873395329, 'SexiMexi247': 1400.0, 'Trick Live': 1400.0, 'Xerelic': 1400.0, 'Kevalon': 1604.9474526604672, 'eledessil': 1368.83448443422, 'maxorri': 431.16551556577997, 'Kreinash': 977.9975815289072, 'Nraddlygew': 1000.0, 'Azaki': 995.0525473395328, 'D3F3CTIVE': 1522.0024184710928, 'Spaz': 500.0, 'YourLocalThiccBoi': 500.0, 'PhantasticTigers': 800.0, 'Star Rise': 1400.0, 'Xlerate': 1200.0, 'QuadNut420': 600.0, 'Wilmeister': 400.0, 'Second Shot': 1700.0, 'HunterSquared': 1200.0, 'oink oink': 1300.0}\n",
      "{'10slayer': 1284.7992250274829, 'AmericanHussar': 1009.1630970946871, 'chibikitty': 389.0148694617028, 'ColinJH': 1000.0, 'CyborgSteve': 1822.0024184710928, 'GentileBanan': 1310.9851305382972, 'Imperialpayload': 800.0, 'Inugami': 1635.3075152723286, 'SexiMexi247': 1400.0, 'Trick Live': 1400.0, 'Xerelic': 1575.6361279327957, 'Kevalon': 1604.9474526604672, 'eledessil': 1368.83448443422, 'maxorri': 255.52938763298434, 'Kreinash': 1153.633709461703, 'Nraddlygew': 1000.0, 'Azaki': 819.4164194067372, 'D3F3CTIVE': 1522.0024184710928, 'Spaz': 324.3638720672044, 'YourLocalThiccBoi': 324.3638720672044, 'PhantasticTigers': 800.0, 'Star Rise': 1400.0, 'Xlerate': 1200.0, 'QuadNut420': 600.0, 'Wilmeister': 400.0, 'Second Shot': 1700.0, 'HunterSquared': 1200.0, 'oink oink': 1300.0}\n",
      "{'10slayer': 1125.5790498002252, 'AmericanHussar': 1009.1630970946871, 'chibikitty': 548.2350446889603, 'ColinJH': 840.7798247727425, 'CyborgSteve': 1822.0024184710928, 'GentileBanan': 1470.2053057655548, 'Imperialpayload': 800.0, 'Inugami': 1794.5276904995862, 'SexiMexi247': 1400.0, 'Trick Live': 1400.0, 'Xerelic': 1575.6361279327957, 'Kevalon': 1604.9474526604672, 'eledessil': 1368.83448443422, 'maxorri': 96.30921240572681, 'Kreinash': 1312.8538846889605, 'Nraddlygew': 1000.0, 'Azaki': 978.6365946339947, 'D3F3CTIVE': 1522.0024184710928, 'Spaz': 165.14369683994687, 'YourLocalThiccBoi': 165.14369683994687, 'PhantasticTigers': 800.0, 'Star Rise': 1400.0, 'Xlerate': 1200.0, 'QuadNut420': 600.0, 'Wilmeister': 400.0, 'Second Shot': 1700.0, 'HunterSquared': 1200.0, 'oink oink': 1300.0}\n",
      "{'10slayer': 955.5907559631642, 'AmericanHussar': 1179.1513909317482, 'chibikitty': 718.2233385260213, 'ColinJH': 1010.7681186098034, 'CyborgSteve': 1822.0024184710928, 'GentileBanan': 1300.2170119284938, 'Imperialpayload': 800.0, 'Inugami': 1964.5159843366473, 'SexiMexi247': 1400.0, 'Trick Live': 1400.0, 'Xerelic': 1575.6361279327957, 'Kevalon': 1604.9474526604672, 'eledessil': 1368.83448443422, 'maxorri': -73.6790814313342, 'Kreinash': 1142.8655908518995, 'Nraddlygew': 1000.0, 'Azaki': 978.6365946339947, 'D3F3CTIVE': 1691.990712308154, 'Spaz': -4.844596997114138, 'YourLocalThiccBoi': 165.14369683994687, 'PhantasticTigers': 800.0, 'Star Rise': 1400.0, 'Xlerate': 1200.0, 'QuadNut420': 600.0, 'Wilmeister': 400.0, 'Second Shot': 1700.0, 'HunterSquared': 1200.0, 'oink oink': 1300.0}\n",
      "{'10slayer': 955.5907559631642, 'AmericanHussar': 1179.1513909317482, 'chibikitty': 481.93109968403087, 'ColinJH': 774.475879767813, 'CyborgSteve': 1585.7101796291024, 'GentileBanan': 1063.9247730865034, 'Imperialpayload': 800.0, 'Inugami': 1964.5159843366473, 'SexiMexi247': 1400.0, 'Trick Live': 1400.0, 'Xerelic': 1575.6361279327957, 'Kevalon': 1368.6552138184768, 'eledessil': 1368.83448443422, 'maxorri': -73.6790814313342, 'Kreinash': 1379.1578296938899, 'Nraddlygew': 1000.0, 'Azaki': 978.6365946339947, 'D3F3CTIVE': 1691.990712308154, 'Spaz': -4.844596997114138, 'YourLocalThiccBoi': 401.4359356819373, 'PhantasticTigers': 1036.2922388419904, 'Star Rise': 1636.2922388419904, 'Xlerate': 1436.2922388419904, 'QuadNut420': 600.0, 'Wilmeister': 400.0, 'Second Shot': 1700.0, 'HunterSquared': 1200.0, 'oink oink': 1300.0}\n",
      "{'10slayer': 955.5907559631642, 'AmericanHussar': 1179.1513909317482, 'chibikitty': 280.9777432130777, 'ColinJH': 774.475879767813, 'CyborgSteve': 1786.6635361000556, 'GentileBanan': 1264.8781295574565, 'Imperialpayload': 800.0, 'Inugami': 1964.5159843366473, 'SexiMexi247': 1400.0, 'Trick Live': 1400.0, 'Xerelic': 1575.6361279327957, 'Kevalon': 1569.60857028943, 'eledessil': 1368.83448443422, 'maxorri': -73.6790814313342, 'Kreinash': 1580.111186164843, 'Nraddlygew': 1000.0, 'Azaki': 978.6365946339947, 'D3F3CTIVE': 1491.0373558372007, 'Spaz': -4.844596997114138, 'YourLocalThiccBoi': 602.3892921528904, 'PhantasticTigers': 1036.2922388419904, 'Star Rise': 1435.3388823710372, 'Xlerate': 1235.3388823710372, 'QuadNut420': 399.04664352904683, 'Wilmeister': 400.0, 'Second Shot': 1700.0, 'HunterSquared': 1200.0, 'oink oink': 1300.0}\n",
      "{'10slayer': 793.7884238081862, 'AmericanHussar': 1179.1513909317482, 'chibikitty': 280.9777432130777, 'ColinJH': 936.278211922791, 'CyborgSteve': 1948.4658682550335, 'GentileBanan': 1264.8781295574565, 'Imperialpayload': 800.0, 'Inugami': 2126.3183164916254, 'SexiMexi247': 1400.0, 'Trick Live': 1400.0, 'Xerelic': 1575.6361279327957, 'Kevalon': 1407.806238134452, 'eledessil': 1368.83448443422, 'maxorri': -73.6790814313342, 'Kreinash': 1741.913518319821, 'Nraddlygew': 1000.0, 'Azaki': 978.6365946339947, 'D3F3CTIVE': 1491.0373558372007, 'Spaz': -4.844596997114138, 'YourLocalThiccBoi': 602.3892921528904, 'PhantasticTigers': 1036.2922388419904, 'Star Rise': 1435.3388823710372, 'Xlerate': 1235.3388823710372, 'QuadNut420': 399.04664352904683, 'Wilmeister': 238.19766784502204, 'Second Shot': 1700.0, 'HunterSquared': 1038.1976678450221, 'oink oink': 1300.0}\n",
      "{'10slayer': 653.385895124714, 'AmericanHussar': 1179.1513909317482, 'chibikitty': 280.9777432130777, 'ColinJH': 795.8756832393188, 'CyborgSteve': 2088.8683969385056, 'GentileBanan': 1264.8781295574565, 'Imperialpayload': 800.0, 'Inugami': 2126.3183164916254, 'SexiMexi247': 1400.0, 'Trick Live': 1400.0, 'Xerelic': 1575.6361279327957, 'Kevalon': 1548.2087668179242, 'eledessil': 1368.83448443422, 'maxorri': -73.6790814313342, 'Kreinash': 1882.316047003293, 'Nraddlygew': 1000.0, 'Azaki': 1119.0391233174669, 'D3F3CTIVE': 1491.0373558372007, 'Spaz': -4.844596997114138, 'YourLocalThiccBoi': 602.3892921528904, 'PhantasticTigers': 1036.2922388419904, 'Star Rise': 1435.3388823710372, 'Xlerate': 1235.3388823710372, 'QuadNut420': 399.04664352904683, 'Wilmeister': 97.79513916154991, 'Second Shot': 1700.0, 'HunterSquared': 1178.6001965284943, 'oink oink': 1300.0}\n",
      "{'10slayer': 418.79273227754067, 'AmericanHussar': 1179.1513909317482, 'chibikitty': 280.9777432130777, 'ColinJH': 1030.4688460864922, 'CyborgSteve': 2323.461559785679, 'GentileBanan': 1030.2849667102832, 'Imperialpayload': 800.0, 'Inugami': 1891.7251536444521, 'SexiMexi247': 1400.0, 'Trick Live': 1400.0, 'Xerelic': 1575.6361279327957, 'Kevalon': 1548.2087668179242, 'eledessil': 1368.83448443422, 'maxorri': -73.6790814313342, 'Kreinash': 1882.316047003293, 'Nraddlygew': 1000.0, 'Azaki': 1119.0391233174669, 'D3F3CTIVE': 1491.0373558372007, 'Spaz': 229.7485658500592, 'YourLocalThiccBoi': 367.7961293057171, 'PhantasticTigers': 1036.2922388419904, 'Star Rise': 1435.3388823710372, 'Xlerate': 1235.3388823710372, 'QuadNut420': 399.04664352904683, 'Wilmeister': 332.38830200872326, 'Second Shot': 1700.0, 'HunterSquared': 1178.6001965284943, 'oink oink': 1300.0}\n",
      "{'10slayer': 418.79273227754067, 'AmericanHussar': 1179.1513909317482, 'chibikitty': 280.9777432130777, 'ColinJH': 850.216701554687, 'CyborgSteve': 2143.209415253874, 'GentileBanan': 1210.5371112420885, 'Imperialpayload': 800.0, 'Inugami': 2071.9772981762576, 'SexiMexi247': 1400.0, 'Trick Live': 1400.0, 'Xerelic': 1575.6361279327957, 'Kevalon': 1548.2087668179242, 'eledessil': 1368.83448443422, 'maxorri': -73.6790814313342, 'Kreinash': 2062.5681915350983, 'Nraddlygew': 1000.0, 'Azaki': 1119.0391233174669, 'D3F3CTIVE': 1491.0373558372007, 'Spaz': 49.49642131825391, 'YourLocalThiccBoi': 187.5439847739118, 'PhantasticTigers': 1036.2922388419904, 'Star Rise': 1435.3388823710372, 'Xlerate': 1235.3388823710372, 'QuadNut420': 399.04664352904683, 'Wilmeister': 512.6404465405285, 'Second Shot': 1700.0, 'HunterSquared': 998.348051996689, 'oink oink': 1300.0}\n",
      "{'10slayer': 418.79273227754067, 'AmericanHussar': 1009.2203893817331, 'chibikitty': 450.90874476309284, 'ColinJH': 680.2857000046719, 'CyborgSteve': 2143.209415253874, 'GentileBanan': 1210.5371112420885, 'Imperialpayload': 800.0, 'Inugami': 2241.9082997262726, 'SexiMexi247': 1400.0, 'Trick Live': 1400.0, 'Xerelic': 1575.6361279327957, 'Kevalon': 1548.2087668179242, 'eledessil': 1368.83448443422, 'maxorri': -73.6790814313342, 'Kreinash': 2232.4991930851133, 'Nraddlygew': 1000.0, 'Azaki': 1119.0391233174669, 'D3F3CTIVE': 1491.0373558372007, 'Spaz': -120.43458023176123, 'YourLocalThiccBoi': 187.5439847739118, 'PhantasticTigers': 1036.2922388419904, 'Star Rise': 1435.3388823710372, 'Xlerate': 1235.3388823710372, 'QuadNut420': 399.04664352904683, 'Wilmeister': 682.5714480905436, 'Second Shot': 1700.0, 'HunterSquared': 1168.2790535467043, 'oink oink': 1130.068998449985}\n",
      "{'10slayer': 418.79273227754067, 'AmericanHussar': 857.3089843364678, 'chibikitty': 602.8201498083581, 'ColinJH': 528.3742949594066, 'CyborgSteve': 2143.209415253874, 'GentileBanan': 1210.5371112420885, 'Imperialpayload': 800.0, 'Inugami': 2393.819704771538, 'SexiMexi247': 1400.0, 'Trick Live': 1400.0, 'Xerelic': 1575.6361279327957, 'Kevalon': 1548.2087668179242, 'eledessil': 1368.83448443422, 'maxorri': -73.6790814313342, 'Kreinash': 2384.4105981303787, 'Nraddlygew': 1000.0, 'Azaki': 1119.0391233174669, 'D3F3CTIVE': 1491.0373558372007, 'Spaz': -120.43458023176123, 'YourLocalThiccBoi': 187.5439847739118, 'PhantasticTigers': 1036.2922388419904, 'Star Rise': 1435.3388823710372, 'Xlerate': 1235.3388823710372, 'QuadNut420': 399.04664352904683, 'Wilmeister': 530.6600430452784, 'Second Shot': 1700.0, 'HunterSquared': 1016.367648501439, 'oink oink': 1281.9804034952504}\n",
      "{'10slayer': 237.20495894922232, 'AmericanHussar': 857.3089843364678, 'chibikitty': 602.8201498083581, 'ColinJH': 528.3742949594066, 'CyborgSteve': 1961.6216419255557, 'GentileBanan': 1028.9493379137703, 'Imperialpayload': 800.0, 'Inugami': 2575.4074780998562, 'SexiMexi247': 1400.0, 'Trick Live': 1400.0, 'Xerelic': 1575.6361279327957, 'Kevalon': 1366.620993489606, 'eledessil': 1368.83448443422, 'maxorri': -73.6790814313342, 'Kreinash': 2384.4105981303787, 'Nraddlygew': 1000.0, 'Azaki': 1119.0391233174669, 'D3F3CTIVE': 1672.625129165519, 'Spaz': -120.43458023176123, 'YourLocalThiccBoi': 369.13175810223015, 'PhantasticTigers': 1036.2922388419904, 'Star Rise': 1435.3388823710372, 'Xlerate': 1235.3388823710372, 'QuadNut420': 399.04664352904683, 'Wilmeister': 349.07226971696, 'Second Shot': 1881.5877733283182, 'HunterSquared': 1197.9554218297574, 'oink oink': 1281.9804034952504}\n",
      "{'10slayer': 107.65627784899459, 'AmericanHussar': 857.3089843364678, 'chibikitty': 602.8201498083581, 'ColinJH': 398.8256138591789, 'CyborgSteve': 2091.1703230257835, 'GentileBanan': 1028.9493379137703, 'Imperialpayload': 800.0, 'Inugami': 2704.956159200084, 'SexiMexi247': 1400.0, 'Trick Live': 1400.0, 'Xerelic': 1575.6361279327957, 'Kevalon': 1496.1696745898337, 'eledessil': 1368.83448443422, 'maxorri': -73.6790814313342, 'Kreinash': 2384.4105981303787, 'Nraddlygew': 1000.0, 'Azaki': 1119.0391233174669, 'D3F3CTIVE': 1802.1738102657466, 'Spaz': -120.43458023176123, 'YourLocalThiccBoi': 498.6804392024579, 'PhantasticTigers': 1036.2922388419904, 'Star Rise': 1435.3388823710372, 'Xlerate': 1235.3388823710372, 'QuadNut420': 399.04664352904683, 'Wilmeister': 219.5235886167323, 'Second Shot': 1752.0390922280906, 'HunterSquared': 1068.4067407295297, 'oink oink': 1281.9804034952504}\n"
     ]
    }
   ],
   "source": [
    "Roster.Reset()\n",
    "ELO(Won = [\"Kevalon\",\"eledessil\", \"Kreinash\",\"Inugami\",\"GentileBanan\"], Lost = [\"D3F3CTIVE\",\"CyborgSteve\",\"chibikitty\",\"Azaki\",\"maxorri\"], first = True)\n",
    "ELO(Won = [\"D3F3CTIVE\",\"Kevalon\",\"CyborgSteve\",\"maxorri\",\"GentileBanan\"],Lost = [\"Inugami\",\"eledessil\",\"chibikitty\",\"Azaki\",\"Kreinash\"])\n",
    "ELO(Won = [\"Azaki\", \"CyborgSteve\", \"D3F3CTIVE\", \"Inugami\", \"GentileBanan\"], Lost = [\"Kevalon\", \"10slayer\", \"Kreinash\", \"AmericanHussar\", \"chibikitty\"])\n",
    "\n",
    "ELO(Won = [\"Inugami\",\"chibikitty\",\"Xerelic\",\"Kreinash\",\"10slayer\"],Lost = [\"Spaz\",\"maxorri\",\"YourLocalThiccBoi\",\"Azaki\",\"GentileBanan\"])\n",
    "ELO(Won = [\"Inugami\", \"chibikitty\", \"GentileBanan\", \"Kreinash\", \"Azaki\"], Lost = [\"10slayer\", \"maxorri\", \"YourLocalThiccBoi\", \"ColinJH\", \"Spaz\"])\n",
    "ELO(Won = [\"D3F3CTIVE\",\"ColinJH\",\"AmericanHussar\",\"chibikitty\",\"Inugami\"],Lost = [\"10slayer\",\"maxorri\",\"Spaz\",\"GentileBanan\",\"Kreinash\"])\n",
    "\n",
    "ELO(Won = [\"PhantasticTigers\",\"YourLocalThiccBoi\",\"Kreinash\",\"Star Rise\",\"Xlerate\"],Lost = [\"Kevalon\",\"ColinJH\",\"GentileBanan\",\"CyborgSteve\",\"chibikitty\"], first = True)\n",
    "ELO(Won = [\"Kevalon\",\"YourLocalThiccBoi\",\"Kreinash\",\"CyborgSteve\",\"GentileBanan\"],Lost = [\"QuadNut420\",\"Xlerate\",\"D3F3CTIVE\",\"Star Rise\",\"chibikitty\"])\n",
    "\n",
    "ELO(Won = [\"ColinJH\",\"CyborgSteve\",\"Kreinash\",\"Inugami\",\"xerelic\"],Lost = [\"Kevalon\",\"DaFearlessCookie\",\"HunterSquared\",\"10slayer\",\"Wilmeister\"], first = True)\n",
    "ELO(Won = [\"Kevalon\",\"CyborgSteve\",\"HunterSquared\",\"Azaki\",\"Kreinash\"],Lost = [\"ColinJH\",\"DaFearlessCookie\",\"xerelic\",\"10slayer\",\"Wilmeister\"])\n",
    "\n",
    "ELO(Won = [\"ColinJH\",\"CyborgSteve\",\"Spaz\",\"Wilmeister\",\"xerelic\"],Lost = [\"GentileBanan\",\"YourLocalThiccBoi\",\"RockTank10\",\"10slayer\",\"Inugami\"], first = True)\n",
    "ELO(Won = [\"GentileBanan\",\"xerelic\",\"Kreinash\",\"Inugami\",\"Wilmeister\"],Lost = [\"CyborgSteve\",\"Spaz\",\"YourLocalThiccBoi\",\"HunterSquared\",\"ColinJH\"])\n",
    "\n",
    "ELO(Won = [\"Inugami\",\"HunterSquared\",\"Kreinash\",\"Wilmeister\",\"chibikitty\"],Lost = [\"oink oink\",\"Spaz\",\"RockTank10\",\"AmericanHussar\",\"ColinJH\"])\n",
    "ELO(Won = [\"Inugami\",\"oink oink\",\"Kreinash\",\"RockTank10\",\"chibikitty\"],Lost = [\"ColinJH\",\"AmericanHussar\",\"Wilmeister\",\"HunterSquared\",\"Idiotinc\"])\n",
    "\n",
    "ELO(Won = [\"Inugami\",\"HunterSquared\",\"D3F3CTIVE\",\"Second Shot\",\"YourLocalThiccBoi\"],Lost = [\"Kevalon\",\"Wilmeister\",\"10slayer\",\"CyborgSteve\",\"GentileBanan\"])\n",
    "ELO(Won = [\"Kevalon\",\"CyborgSteve\",\"YourLocalThiccBoi\",\"Inugami\",\"D3F3CTIVE\"],Lost = [\"ColinJH\",\"Wilmeister\",\"10slayer\",\"HunterSquared\",\"Second Shot\"])"
   ]
  }
 ],
 "metadata": {
  "kernelspec": {
   "display_name": "Python 3",
   "language": "python",
   "name": "python3"
  },
  "language_info": {
   "codemirror_mode": {
    "name": "ipython",
    "version": 3
   },
   "file_extension": ".py",
   "mimetype": "text/x-python",
   "name": "python",
   "nbconvert_exporter": "python",
   "pygments_lexer": "ipython3",
   "version": "3.8.5"
  }
 },
 "nbformat": 4,
 "nbformat_minor": 4
}
