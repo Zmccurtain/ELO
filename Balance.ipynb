{
 "cells": [
  {
   "cell_type": "code",
   "execution_count": null,
   "metadata": {},
   "outputs": [],
   "source": [
    "import numpy as np"
   ]
  },
  {
   "cell_type": "code",
   "execution_count": null,
   "metadata": {},
   "outputs": [],
   "source": [
    "class Evolutionary():\n",
    "    def __init__(self,pop, mprob, rprob, geneSize, fitnessFunction):\n",
    "        self.pop = np.zeros(pop)\n",
    "        self.mutatProb = mprob\n",
    "        self.recomProb = rprob\n",
    "        self.geneSize\n",
    "        self.fitnessFunction = fitnessFunction\n",
    "    \n",
    "    def populate(self):\n",
    "        for i in range(len(self.pop)):\n",
    "            prob = [5/len(self.pop), len(self.pop)-10/len(self.pop),5/len(self.pop)]\n",
    "            newTeam = np.random.choice([-1,0,1], self.geneSize, p=prob)\n",
    "            newRole = np.random.choice([0,1,2,3,4], self.geneSize)\n",
    "            new = np.zeros(self.geneSize)\n",
    "            for j in range(self.geneSize):\n",
    "                new[j] = [newTeam[j], newRole[j]]\n",
    "                \n",
    "            self.pop[i] = new\n",
    "        fixUsing():\n",
    "        return\n",
    "    \n",
    "    def fixUsing():\n",
    "        for i in range(len(self.pop)):\n",
    "            count = countUsing(self.pop[i])\n",
    "            if count < 10:\n",
    "                for j in range(self.geneSize):\n",
    "                    if count >= 10:\n",
    "                        break\n",
    "                    else:\n",
    "                        if self.pop[i][j] == 0:\n",
    "                            self.pop[i][j] == np.random.choice([-1,1])\n",
    "    def countUsing(self, i):\n",
    "        count = 0\n",
    "        for j in i:\n",
    "            if j[0] == -1 | j[0] == 1:\n",
    "                count += 1\n",
    "        return count\n",
    "            \n",
    "    def step(self):\n",
    "        a = np.random.randint(len(self.pop))\n",
    "        b = np.random.randint(len(self.pop))\n",
    "        while(a != b):\n",
    "            b = np.random.randint(len(self.pop))\n",
    "        if self.fitnessFunction(self.pop[a]) > self.fitnessFunction(self.pop[b]):\n",
    "            winner = a\n",
    "            loser = b\n",
    "        else:\n",
    "            winner = b\n",
    "            loser = a\n",
    "        \n",
    "        for i in range(self.geneSize):\n",
    "            if(np.random.random_sample() > self.recomProb):\n",
    "                self.pop[loser][i] = self.pop[winner][i]\n",
    "        for i in range(self.geneSize):\n",
    "            if(np.random.random_sample() > self.mutatProb):\n",
    "                \n",
    "                prob = [5/len(self.pop), len(self.pop)-10/len(self.pop),5/len(self.pop)]\n",
    "                newTeam = np.random.choice([-1,0,1], p=prob)\n",
    "                newRole = np.random.choice([0,1,2,3,4])\n",
    "                new = [newTeam, newRole]\n",
    "                if new != self.pop[loser][i]:\n",
    "                    self.pop[loser][i] = new\n",
    "        fixUsing()"
   ]
  },
  {
   "cell_type": "code",
   "execution_count": 3,
   "metadata": {},
   "outputs": [
    {
     "data": {
      "text/plain": [
       "1"
      ]
     },
     "execution_count": 3,
     "metadata": {},
     "output_type": "execute_result"
    }
   ],
   "source": []
  },
  {
   "cell_type": "code",
   "execution_count": null,
   "metadata": {},
   "outputs": [],
   "source": []
  }
 ],
 "metadata": {
  "kernelspec": {
   "display_name": "Python 3",
   "language": "python",
   "name": "python3"
  },
  "language_info": {
   "codemirror_mode": {
    "name": "ipython",
    "version": 3
   },
   "file_extension": ".py",
   "mimetype": "text/x-python",
   "name": "python",
   "nbconvert_exporter": "python",
   "pygments_lexer": "ipython3",
   "version": "3.8.5"
  }
 },
 "nbformat": 4,
 "nbformat_minor": 4
}
