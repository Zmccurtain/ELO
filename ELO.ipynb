{
 "cells": [
  {
   "cell_type": "code",
   "execution_count": 1,
   "metadata": {
    "scrolled": true
   },
   "outputs": [],
   "source": [
    "import math\n",
    "import random\n",
    "import matplotlib.pyplot as plt\n",
    "import numpy as np\n",
    "import Roster"
   ]
  },
  {
   "cell_type": "code",
   "execution_count": 2,
   "metadata": {},
   "outputs": [],
   "source": [
    "def ELO(Won, Lost, first=False):\n",
    "    roster = Roster.oRoster(\"c\")\n",
    "    if first:\n",
    "        Roster.Edit(\"l\", roster)\n",
    "    winTotal = 0\n",
    "    for i in Won:\n",
    "        if i in roster:\n",
    "            winTotal += roster[i]\n",
    "        else:\n",
    "            winTotal += 1000\n",
    "    winAverage = winTotal/5\n",
    "    \n",
    "    \n",
    "    \n",
    "    loseTotal = 0\n",
    "    for i in Lost:\n",
    "        if i in roster:\n",
    "            loseTotal += roster[i]\n",
    "        else:\n",
    "            loseTotal += 1000\n",
    "    loseAverage = loseTotal/5\n",
    "    \n",
    "    \n",
    "    \n",
    "    difference = loseAverage - winAverage\n",
    "    for i in Won:\n",
    "        if i in roster:\n",
    "            roster[i] += f(difference)\n",
    "    for i in Lost:\n",
    "        if i in roster:\n",
    "            roster[i] -= f(difference)\n",
    "    Roster.Edit(\"c\", roster)"
   ]
  },
  {
   "cell_type": "code",
   "execution_count": 3,
   "metadata": {},
   "outputs": [],
   "source": [
    "def f(x):\n",
    "    #return (math.log(abs(x)+1) *20 + 30) - (math.log(( (abs(x)-x) /2)+1)*24 - 20)\n",
    "    return (x**3)/400000000 + x**2/100000 + x/10 + 200"
   ]
  },
  {
   "cell_type": "code",
   "execution_count": null,
   "metadata": {
    "scrolled": true
   },
   "outputs": [],
   "source": []
  },
  {
   "cell_type": "code",
   "execution_count": null,
   "metadata": {},
   "outputs": [],
   "source": []
  },
  {
   "cell_type": "code",
   "execution_count": 4,
   "metadata": {},
   "outputs": [
    {
     "name": "stdout",
     "output_type": "stream",
     "text": [
      "{'10slayer': 1300.0, 'AmericanHussar': 1200.0, 'chibikitty': 800.0, 'ColinJH': 1000.0, 'CyborgSteve': 1600.0, 'GentileBanan': 900.0, 'Imperialpayload': 800.0, 'Inugami': 1300.0, 'SexiMexi247': 1400.0, 'Trick Live': 1400.0, 'Xerelic': 1400.0, 'Kevalon': 1400.0, 'eledessil': 1400.0, 'maxorri': 400.0, 'Kreinash': 1200.0, 'Ksiu': 2300.0, 'Azaki': 1200.0, 'D3F3CTIVE': 1300.0, 'Spaz': 500.0, 'YourLocalThiccBoi': 500.0, 'PhantasticTigers': 800.0, 'Star Rise': 1400.0, 'Xlerate': 1200.0, 'QuadNut420': 600.0, 'Wilmeister': 400.0, 'Second Shot': 1700.0, 'HunterSquared': 1200.0, 'oink oink': 1300.0}\n",
      "{'10slayer': 1300.0, 'AmericanHussar': 1200.0, 'chibikitty': 617.69058, 'ColinJH': 1000.0, 'CyborgSteve': 1417.69058, 'GentileBanan': 1082.30942, 'Imperialpayload': 800.0, 'Inugami': 1482.30942, 'SexiMexi247': 1400.0, 'Trick Live': 1400.0, 'Xerelic': 1400.0, 'Kevalon': 1582.30942, 'eledessil': 1582.30942, 'maxorri': 217.69058, 'Kreinash': 1382.30942, 'Ksiu': 2300.0, 'Azaki': 1017.69058, 'D3F3CTIVE': 1117.69058, 'Spaz': 500.0, 'YourLocalThiccBoi': 500.0, 'PhantasticTigers': 800.0, 'Star Rise': 1400.0, 'Xlerate': 1200.0, 'QuadNut420': 600.0, 'Wilmeister': 400.0, 'Second Shot': 1700.0, 'HunterSquared': 1200.0, 'oink oink': 1300.0}\n",
      "{'10slayer': 1300.0, 'AmericanHussar': 1200.0, 'chibikitty': 404.21564443422, 'ColinJH': 1000.0, 'CyborgSteve': 1631.16551556578, 'GentileBanan': 1295.78435556578, 'Imperialpayload': 800.0, 'Inugami': 1268.83448443422, 'SexiMexi247': 1400.0, 'Trick Live': 1400.0, 'Xerelic': 1400.0, 'Kevalon': 1795.78435556578, 'eledessil': 1368.83448443422, 'maxorri': 431.16551556577997, 'Kreinash': 1168.83448443422, 'Ksiu': 2300.0, 'Azaki': 804.2156444342199, 'D3F3CTIVE': 1331.16551556578, 'Spaz': 500.0, 'YourLocalThiccBoi': 500.0, 'PhantasticTigers': 800.0, 'Star Rise': 1400.0, 'Xlerate': 1200.0, 'QuadNut420': 600.0, 'Wilmeister': 400.0, 'Second Shot': 1700.0, 'HunterSquared': 1200.0, 'oink oink': 1300.0}\n",
      "{'10slayer': 1109.1630970946871, 'AmericanHussar': 1009.1630970946871, 'chibikitty': 213.37874152890717, 'ColinJH': 1000.0, 'CyborgSteve': 1822.0024184710928, 'GentileBanan': 1486.621258471093, 'Imperialpayload': 800.0, 'Inugami': 1459.6713873395329, 'SexiMexi247': 1400.0, 'Trick Live': 1400.0, 'Xerelic': 1400.0, 'Kevalon': 1604.9474526604672, 'eledessil': 1368.83448443422, 'maxorri': 431.16551556577997, 'Kreinash': 977.9975815289072, 'Ksiu': 2300.0, 'Azaki': 995.0525473395328, 'D3F3CTIVE': 1522.0024184710928, 'Spaz': 500.0, 'YourLocalThiccBoi': 500.0, 'PhantasticTigers': 800.0, 'Star Rise': 1400.0, 'Xlerate': 1200.0, 'QuadNut420': 600.0, 'Wilmeister': 400.0, 'Second Shot': 1700.0, 'HunterSquared': 1200.0, 'oink oink': 1300.0}\n",
      "{'10slayer': 1284.7992250274829, 'AmericanHussar': 1009.1630970946871, 'chibikitty': 389.0148694617028, 'ColinJH': 1000.0, 'CyborgSteve': 1822.0024184710928, 'GentileBanan': 1310.9851305382972, 'Imperialpayload': 800.0, 'Inugami': 1635.3075152723286, 'SexiMexi247': 1400.0, 'Trick Live': 1400.0, 'Xerelic': 1575.6361279327957, 'Kevalon': 1604.9474526604672, 'eledessil': 1368.83448443422, 'maxorri': 255.52938763298434, 'Kreinash': 1153.633709461703, 'Ksiu': 2300.0, 'Azaki': 819.4164194067372, 'D3F3CTIVE': 1522.0024184710928, 'Spaz': 324.3638720672044, 'YourLocalThiccBoi': 324.3638720672044, 'PhantasticTigers': 800.0, 'Star Rise': 1400.0, 'Xlerate': 1200.0, 'QuadNut420': 600.0, 'Wilmeister': 400.0, 'Second Shot': 1700.0, 'HunterSquared': 1200.0, 'oink oink': 1300.0}\n",
      "{'10slayer': 1125.5790498002252, 'AmericanHussar': 1009.1630970946871, 'chibikitty': 548.2350446889603, 'ColinJH': 840.7798247727425, 'CyborgSteve': 1822.0024184710928, 'GentileBanan': 1470.2053057655548, 'Imperialpayload': 800.0, 'Inugami': 1794.5276904995862, 'SexiMexi247': 1400.0, 'Trick Live': 1400.0, 'Xerelic': 1575.6361279327957, 'Kevalon': 1604.9474526604672, 'eledessil': 1368.83448443422, 'maxorri': 96.30921240572681, 'Kreinash': 1312.8538846889605, 'Ksiu': 2300.0, 'Azaki': 978.6365946339947, 'D3F3CTIVE': 1522.0024184710928, 'Spaz': 165.14369683994687, 'YourLocalThiccBoi': 165.14369683994687, 'PhantasticTigers': 800.0, 'Star Rise': 1400.0, 'Xlerate': 1200.0, 'QuadNut420': 600.0, 'Wilmeister': 400.0, 'Second Shot': 1700.0, 'HunterSquared': 1200.0, 'oink oink': 1300.0}\n",
      "{'10slayer': 955.5907559631642, 'AmericanHussar': 1179.1513909317482, 'chibikitty': 718.2233385260213, 'ColinJH': 1010.7681186098034, 'CyborgSteve': 1822.0024184710928, 'GentileBanan': 1300.2170119284938, 'Imperialpayload': 800.0, 'Inugami': 1964.5159843366473, 'SexiMexi247': 1400.0, 'Trick Live': 1400.0, 'Xerelic': 1575.6361279327957, 'Kevalon': 1604.9474526604672, 'eledessil': 1368.83448443422, 'maxorri': -73.6790814313342, 'Kreinash': 1142.8655908518995, 'Ksiu': 2300.0, 'Azaki': 978.6365946339947, 'D3F3CTIVE': 1691.990712308154, 'Spaz': -4.844596997114138, 'YourLocalThiccBoi': 165.14369683994687, 'PhantasticTigers': 800.0, 'Star Rise': 1400.0, 'Xlerate': 1200.0, 'QuadNut420': 600.0, 'Wilmeister': 400.0, 'Second Shot': 1700.0, 'HunterSquared': 1200.0, 'oink oink': 1300.0}\n",
      "{'10slayer': 955.5907559631642, 'AmericanHussar': 1179.1513909317482, 'chibikitty': 481.93109968403087, 'ColinJH': 774.475879767813, 'CyborgSteve': 1585.7101796291024, 'GentileBanan': 1063.9247730865034, 'Imperialpayload': 800.0, 'Inugami': 1964.5159843366473, 'SexiMexi247': 1400.0, 'Trick Live': 1400.0, 'Xerelic': 1575.6361279327957, 'Kevalon': 1368.6552138184768, 'eledessil': 1368.83448443422, 'maxorri': -73.6790814313342, 'Kreinash': 1379.1578296938899, 'Ksiu': 2300.0, 'Azaki': 978.6365946339947, 'D3F3CTIVE': 1691.990712308154, 'Spaz': -4.844596997114138, 'YourLocalThiccBoi': 401.4359356819373, 'PhantasticTigers': 1036.2922388419904, 'Star Rise': 1636.2922388419904, 'Xlerate': 1436.2922388419904, 'QuadNut420': 600.0, 'Wilmeister': 400.0, 'Second Shot': 1700.0, 'HunterSquared': 1200.0, 'oink oink': 1300.0}\n",
      "{'10slayer': 955.5907559631642, 'AmericanHussar': 1179.1513909317482, 'chibikitty': 280.9777432130777, 'ColinJH': 774.475879767813, 'CyborgSteve': 1786.6635361000556, 'GentileBanan': 1264.8781295574565, 'Imperialpayload': 800.0, 'Inugami': 1964.5159843366473, 'SexiMexi247': 1400.0, 'Trick Live': 1400.0, 'Xerelic': 1575.6361279327957, 'Kevalon': 1569.60857028943, 'eledessil': 1368.83448443422, 'maxorri': -73.6790814313342, 'Kreinash': 1580.111186164843, 'Ksiu': 2300.0, 'Azaki': 978.6365946339947, 'D3F3CTIVE': 1491.0373558372007, 'Spaz': -4.844596997114138, 'YourLocalThiccBoi': 602.3892921528904, 'PhantasticTigers': 1036.2922388419904, 'Star Rise': 1435.3388823710372, 'Xlerate': 1235.3388823710372, 'QuadNut420': 399.04664352904683, 'Wilmeister': 400.0, 'Second Shot': 1700.0, 'HunterSquared': 1200.0, 'oink oink': 1300.0}\n",
      "{'10slayer': 804.4352070640964, 'AmericanHussar': 1179.1513909317482, 'chibikitty': 280.9777432130777, 'ColinJH': 925.6314286668808, 'CyborgSteve': 1937.8190849991233, 'GentileBanan': 1264.8781295574565, 'Imperialpayload': 800.0, 'Inugami': 2115.671533235715, 'SexiMexi247': 1400.0, 'Trick Live': 1400.0, 'Xerelic': 1726.7916768318635, 'Kevalon': 1418.4530213903622, 'eledessil': 1368.83448443422, 'maxorri': -73.6790814313342, 'Kreinash': 1731.2667350639108, 'Ksiu': 2300.0, 'Azaki': 978.6365946339947, 'D3F3CTIVE': 1491.0373558372007, 'Spaz': -4.844596997114138, 'YourLocalThiccBoi': 602.3892921528904, 'PhantasticTigers': 1036.2922388419904, 'Star Rise': 1435.3388823710372, 'Xlerate': 1235.3388823710372, 'QuadNut420': 399.04664352904683, 'Wilmeister': 248.8444511009323, 'Second Shot': 1700.0, 'HunterSquared': 1048.8444511009322, 'oink oink': 1300.0}\n",
      "{'10slayer': 650.5793384484361, 'AmericanHussar': 1179.1513909317482, 'chibikitty': 280.9777432130777, 'ColinJH': 771.7755600512205, 'CyborgSteve': 2091.6749536147836, 'GentileBanan': 1264.8781295574565, 'Imperialpayload': 800.0, 'Inugami': 2115.671533235715, 'SexiMexi247': 1400.0, 'Trick Live': 1400.0, 'Xerelic': 1572.9358082162032, 'Kevalon': 1572.3088900060225, 'eledessil': 1368.83448443422, 'maxorri': -73.6790814313342, 'Kreinash': 1885.122603679571, 'Ksiu': 2300.0, 'Azaki': 1132.492463249655, 'D3F3CTIVE': 1491.0373558372007, 'Spaz': -4.844596997114138, 'YourLocalThiccBoi': 602.3892921528904, 'PhantasticTigers': 1036.2922388419904, 'Star Rise': 1435.3388823710372, 'Xlerate': 1235.3388823710372, 'QuadNut420': 399.04664352904683, 'Wilmeister': 94.98858248527202, 'Second Shot': 1700.0, 'HunterSquared': 1202.7003197165925, 'oink oink': 1300.0}\n",
      "{'10slayer': 427.9222792099541, 'AmericanHussar': 1179.1513909317482, 'chibikitty': 280.9777432130777, 'ColinJH': 994.4326192897025, 'CyborgSteve': 2314.3320128532655, 'GentileBanan': 1042.2210703189744, 'Imperialpayload': 800.0, 'Inugami': 1893.0144739972327, 'SexiMexi247': 1400.0, 'Trick Live': 1400.0, 'Xerelic': 1795.5928674546853, 'Kevalon': 1572.3088900060225, 'eledessil': 1368.83448443422, 'maxorri': -73.6790814313342, 'Kreinash': 1885.122603679571, 'Ksiu': 2300.0, 'Azaki': 1132.492463249655, 'D3F3CTIVE': 1491.0373558372007, 'Spaz': 217.8124622413679, 'YourLocalThiccBoi': 379.7322329144084, 'PhantasticTigers': 1036.2922388419904, 'Star Rise': 1435.3388823710372, 'Xlerate': 1235.3388823710372, 'QuadNut420': 399.04664352904683, 'Wilmeister': 317.64564172375407, 'Second Shot': 1700.0, 'HunterSquared': 1202.7003197165925, 'oink oink': 1300.0}\n",
      "{'10slayer': 427.9222792099541, 'AmericanHussar': 1179.1513909317482, 'chibikitty': 280.9777432130777, 'ColinJH': 829.7141976901415, 'CyborgSteve': 2149.6135912537047, 'GentileBanan': 1206.9394919185354, 'Imperialpayload': 800.0, 'Inugami': 2057.7328955967937, 'SexiMexi247': 1400.0, 'Trick Live': 1400.0, 'Xerelic': 1960.3112890542463, 'Kevalon': 1572.3088900060225, 'eledessil': 1368.83448443422, 'maxorri': -73.6790814313342, 'Kreinash': 2049.841025279132, 'Ksiu': 2300.0, 'Azaki': 1132.492463249655, 'D3F3CTIVE': 1491.0373558372007, 'Spaz': 53.09404064180694, 'YourLocalThiccBoi': 215.01381131484746, 'PhantasticTigers': 1036.2922388419904, 'Star Rise': 1435.3388823710372, 'Xlerate': 1235.3388823710372, 'QuadNut420': 399.04664352904683, 'Wilmeister': 482.364063323315, 'Second Shot': 1700.0, 'HunterSquared': 1037.9818981170315, 'oink oink': 1300.0}\n",
      "{'10slayer': 427.9222792099541, 'AmericanHussar': 1009.2069809748882, 'chibikitty': 450.92215316993764, 'ColinJH': 659.7697877332816, 'CyborgSteve': 2149.6135912537047, 'GentileBanan': 1206.9394919185354, 'Imperialpayload': 800.0, 'Inugami': 2227.6773055536537, 'SexiMexi247': 1400.0, 'Trick Live': 1400.0, 'Xerelic': 1960.3112890542463, 'Kevalon': 1572.3088900060225, 'eledessil': 1368.83448443422, 'maxorri': -73.6790814313342, 'Kreinash': 2219.785435235992, 'Ksiu': 2300.0, 'Azaki': 1132.492463249655, 'D3F3CTIVE': 1491.0373558372007, 'Spaz': -116.850369315053, 'YourLocalThiccBoi': 215.01381131484746, 'PhantasticTigers': 1036.2922388419904, 'Star Rise': 1435.3388823710372, 'Xlerate': 1235.3388823710372, 'QuadNut420': 399.04664352904683, 'Wilmeister': 652.3084732801749, 'Second Shot': 1700.0, 'HunterSquared': 1207.9263080738915, 'oink oink': 1130.05559004314}\n",
      "{'10slayer': 427.9222792099541, 'AmericanHussar': 857.0053124873998, 'chibikitty': 603.1238216574261, 'ColinJH': 507.5681192457932, 'CyborgSteve': 2149.6135912537047, 'GentileBanan': 1206.9394919185354, 'Imperialpayload': 800.0, 'Inugami': 2379.878974041142, 'SexiMexi247': 1400.0, 'Trick Live': 1400.0, 'Xerelic': 1960.3112890542463, 'Kevalon': 1572.3088900060225, 'eledessil': 1368.83448443422, 'maxorri': -73.6790814313342, 'Kreinash': 2371.9871037234802, 'Ksiu': 2300.0, 'Azaki': 1132.492463249655, 'D3F3CTIVE': 1491.0373558372007, 'Spaz': -116.850369315053, 'YourLocalThiccBoi': 215.01381131484746, 'PhantasticTigers': 1036.2922388419904, 'Star Rise': 1435.3388823710372, 'Xlerate': 1235.3388823710372, 'QuadNut420': 399.04664352904683, 'Wilmeister': 500.10680479268643, 'Second Shot': 1700.0, 'HunterSquared': 1055.724639586403, 'oink oink': 1282.2572585306284}\n",
      "{'10slayer': 247.24874952672434, 'AmericanHussar': 857.0053124873998, 'chibikitty': 603.1238216574261, 'ColinJH': 507.5681192457932, 'CyborgSteve': 1968.9400615704749, 'GentileBanan': 1026.2659622353056, 'Imperialpayload': 800.0, 'Inugami': 2560.552503724372, 'SexiMexi247': 1400.0, 'Trick Live': 1400.0, 'Xerelic': 1960.3112890542463, 'Kevalon': 1391.6353603227926, 'eledessil': 1368.83448443422, 'maxorri': -73.6790814313342, 'Kreinash': 2371.9871037234802, 'Ksiu': 2300.0, 'Azaki': 1132.492463249655, 'D3F3CTIVE': 1671.7108855204306, 'Spaz': -116.850369315053, 'YourLocalThiccBoi': 395.6873409980773, 'PhantasticTigers': 1036.2922388419904, 'Star Rise': 1435.3388823710372, 'Xlerate': 1235.3388823710372, 'QuadNut420': 399.04664352904683, 'Wilmeister': 319.43327510945664, 'Second Shot': 1880.6735296832298, 'HunterSquared': 1236.398169269633, 'oink oink': 1282.2572585306284}\n",
      "{'10slayer': 118.5203510812837, 'AmericanHussar': 857.0053124873998, 'chibikitty': 603.1238216574261, 'ColinJH': 378.83972080035255, 'CyborgSteve': 2097.6684600159156, 'GentileBanan': 1026.2659622353056, 'Imperialpayload': 800.0, 'Inugami': 2689.2809021698126, 'SexiMexi247': 1400.0, 'Trick Live': 1400.0, 'Xerelic': 1960.3112890542463, 'Kevalon': 1520.3637587682333, 'eledessil': 1368.83448443422, 'maxorri': -73.6790814313342, 'Kreinash': 2371.9871037234802, 'Ksiu': 2300.0, 'Azaki': 1132.492463249655, 'D3F3CTIVE': 1800.4392839658713, 'Spaz': -116.850369315053, 'YourLocalThiccBoi': 524.4157394435179, 'PhantasticTigers': 1036.2922388419904, 'Star Rise': 1435.3388823710372, 'Xlerate': 1235.3388823710372, 'QuadNut420': 399.04664352904683, 'Wilmeister': 190.704876664016, 'Second Shot': 1751.9451312377892, 'HunterSquared': 1107.6697708241923, 'oink oink': 1282.2572585306284}\n"
     ]
    }
   ],
   "source": [
    "Roster.Reset()\n",
    "ELO(Won = [\"Kevalon\",\"eledessil\", \"Kreinash\",\"Inugami\",\"GentileBanan\"], Lost = [\"D3F3CTIVE\",\"CyborgSteve\",\"chibikitty\",\"Azaki\",\"maxorri\"], first = True)\n",
    "ELO(Won = [\"D3F3CTIVE\",\"Kevalon\",\"CyborgSteve\",\"maxorri\",\"GentileBanan\"],Lost = [\"Inugami\",\"eledessil\",\"chibikitty\",\"Azaki\",\"Kreinash\"])\n",
    "ELO(Won = [\"Azaki\", \"CyborgSteve\", \"D3F3CTIVE\", \"Inugami\", \"GentileBanan\"], Lost = [\"Kevalon\", \"10slayer\", \"Kreinash\", \"AmericanHussar\", \"chibikitty\"])\n",
    "\n",
    "ELO(Won = [\"Inugami\",\"chibikitty\",\"Xerelic\",\"Kreinash\",\"10slayer\"],Lost = [\"Spaz\",\"maxorri\",\"YourLocalThiccBoi\",\"Azaki\",\"GentileBanan\"])\n",
    "ELO(Won = [\"Inugami\", \"chibikitty\", \"GentileBanan\", \"Kreinash\", \"Azaki\"], Lost = [\"10slayer\", \"maxorri\", \"YourLocalThiccBoi\", \"ColinJH\", \"Spaz\"])\n",
    "ELO(Won = [\"D3F3CTIVE\",\"ColinJH\",\"AmericanHussar\",\"chibikitty\",\"Inugami\"],Lost = [\"10slayer\",\"maxorri\",\"Spaz\",\"GentileBanan\",\"Kreinash\"])\n",
    "\n",
    "ELO(Won = [\"PhantasticTigers\",\"YourLocalThiccBoi\",\"Kreinash\",\"Star Rise\",\"Xlerate\"],Lost = [\"Kevalon\",\"ColinJH\",\"GentileBanan\",\"CyborgSteve\",\"chibikitty\"], first = True)\n",
    "ELO(Won = [\"Kevalon\",\"YourLocalThiccBoi\",\"Kreinash\",\"CyborgSteve\",\"GentileBanan\"],Lost = [\"QuadNut420\",\"Xlerate\",\"D3F3CTIVE\",\"Star Rise\",\"chibikitty\"])\n",
    "\n",
    "ELO(Won = [\"ColinJH\",\"CyborgSteve\",\"Kreinash\",\"Inugami\",\"Xerelic\"],Lost = [\"Kevalon\",\"DaFearlessCookie\",\"HunterSquared\",\"10slayer\",\"Wilmeister\"], first = True)\n",
    "ELO(Won = [\"Kevalon\",\"CyborgSteve\",\"HunterSquared\",\"Azaki\",\"Kreinash\"],Lost = [\"ColinJH\",\"DaFearlessCookie\",\"Xerelic\",\"10slayer\",\"Wilmeister\"])\n",
    "\n",
    "ELO(Won = [\"ColinJH\",\"CyborgSteve\",\"Spaz\",\"Wilmeister\",\"Xerelic\"],Lost = [\"GentileBanan\",\"YourLocalThiccBoi\",\"RockTank10\",\"10slayer\",\"Inugami\"], first = True)\n",
    "ELO(Won = [\"GentileBanan\",\"Xerelic\",\"Kreinash\",\"Inugami\",\"Wilmeister\"],Lost = [\"CyborgSteve\",\"Spaz\",\"YourLocalThiccBoi\",\"HunterSquared\",\"ColinJH\"])\n",
    "\n",
    "ELO(Won = [\"Inugami\",\"HunterSquared\",\"Kreinash\",\"Wilmeister\",\"chibikitty\"],Lost = [\"oink oink\",\"Spaz\",\"RockTank10\",\"AmericanHussar\",\"ColinJH\"])\n",
    "ELO(Won = [\"Inugami\",\"oink oink\",\"Kreinash\",\"RockTank10\",\"chibikitty\"],Lost = [\"ColinJH\",\"AmericanHussar\",\"Wilmeister\",\"HunterSquared\",\"Idiotinc\"])\n",
    "\n",
    "ELO(Won = [\"Inugami\",\"HunterSquared\",\"D3F3CTIVE\",\"Second Shot\",\"YourLocalThiccBoi\"],Lost = [\"Kevalon\",\"Wilmeister\",\"10slayer\",\"CyborgSteve\",\"GentileBanan\"])\n",
    "ELO(Won = [\"Kevalon\",\"CyborgSteve\",\"YourLocalThiccBoi\",\"Inugami\",\"D3F3CTIVE\"],Lost = [\"ColinJH\",\"Wilmeister\",\"10slayer\",\"HunterSquared\",\"Second Shot\"])"
   ]
  }
 ],
 "metadata": {
  "kernelspec": {
   "display_name": "Python 3",
   "language": "python",
   "name": "python3"
  },
  "language_info": {
   "codemirror_mode": {
    "name": "ipython",
    "version": 3
   },
   "file_extension": ".py",
   "mimetype": "text/x-python",
   "name": "python",
   "nbconvert_exporter": "python",
   "pygments_lexer": "ipython3",
   "version": "3.8.5"
  }
 },
 "nbformat": 4,
 "nbformat_minor": 4
}
