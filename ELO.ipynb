{
 "cells": [
  {
   "cell_type": "code",
   "execution_count": 3,
   "metadata": {
    "scrolled": true
   },
   "outputs": [],
   "source": [
    "import math\n",
    "import random\n",
    "import matplotlib.pyplot as plt\n",
    "import numpy as np\n",
    "import Roster"
   ]
  },
  {
   "cell_type": "code",
   "execution_count": 4,
   "metadata": {},
   "outputs": [],
   "source": [
    "def ELO(Won, Lost, first=False):\n",
    "    roster = Roster.oRoster(\"c\")\n",
    "    if first:\n",
    "        Roster.Edit(\"l\", roster)\n",
    "    winTotal = 0\n",
    "    for i in Won:\n",
    "        winTotal += roster[i]\n",
    "    winAverage = winTotal/5\n",
    "    \n",
    "    \n",
    "    \n",
    "    loseTotal = 0\n",
    "    for i in Lost:\n",
    "        loseTotal += roster[i]\n",
    "    loseAverage = loseTotal/5\n",
    "    \n",
    "    \n",
    "    \n",
    "    difference = loseAverage - winAverage\n",
    "    print(difference)\n",
    "    for i in Won:\n",
    "        roster[i] += f(difference)\n",
    "    for i in Lost:\n",
    "        roster[i] -= f(difference)\n",
    "    Roster.Edit(\"c\", roster)"
   ]
  },
  {
   "cell_type": "code",
   "execution_count": 170,
   "metadata": {},
   "outputs": [],
   "source": [
    "def f(x):\n",
    "    #return (math.log(abs(x)+1) *20 + 30) - (math.log(( (abs(x)-x) /2)+1)*24 - 20)\n",
    "    return (x**3)/400000000 + x**2/100000 + x/10 + 200"
   ]
  },
  {
   "cell_type": "code",
   "execution_count": 178,
   "metadata": {
    "scrolled": true
   },
   "outputs": [
    {
     "data": {
      "image/png": "[encoded data removed]",
      "text/plain": [
       "<Figure size 432x288 with 1 Axes>"
      ]
     },
     "metadata": {
      "needs_background": "light"
     },
     "output_type": "display_data"
    }
   ],
   "source": [
    "x = []\n",
    "for i in range(-2000, 2000):\n",
    "    x.append(f(i))\n",
    "plt.plot(range(-2000,2000),x)\n",
    "plt.show()"
   ]
  },
  {
   "cell_type": "code",
   "execution_count": 184,
   "metadata": {},
   "outputs": [
    {
     "name": "stdout",
     "output_type": "stream",
     "text": [
      "210.1025\n"
     ]
    }
   ],
   "source": [
    "print(f(100))"
   ]
  },
  {
   "cell_type": "code",
   "execution_count": 188,
   "metadata": {},
   "outputs": [
    {
     "name": "stdout",
     "output_type": "stream",
     "text": [
      "-92.4662062263119\n",
      "{'10slayer': 1109.1630970946871, 'aijinxed': 900.0, 'AmericanHussar': 1009.1630970946871, 'Cade': 1300.0, 'chibikitty': 213.37874152890717, 'ColinJH': 1000.0, 'CyborgSteve': 1822.0024184710928, 'Daniel': 1700.0, 'GentileBanan': 1486.621258471093, 'Imperialpayload': 800.0, 'Inugami': 1459.6713873395329, 'Ksiu': 2300.0, 'SexiMexi247': 1400.0, 'Trick Live': 1400.0, 'Xerelic': 1400.0, 'Kevalon': 1604.9474526604672, 'eledessil': 1368.83448443422, 'maxorri': 431.16551556577997, 'Kreinash': 977.9975815289072, 'Nraddlygew': 1000.0, 'Azaki': 995.0525473395328, 'D3F3CTIVE': 1522.0024184710928}\n"
     ]
    }
   ],
   "source": []
  }
 ],
 "metadata": {
  "kernelspec": {
   "display_name": "Python 3",
   "language": "python",
   "name": "python3"
  },
  "language_info": {
   "codemirror_mode": {
    "name": "ipython",
    "version": 3
   },
   "file_extension": ".py",
   "mimetype": "text/x-python",
   "name": "python",
   "nbconvert_exporter": "python",
   "pygments_lexer": "ipython3",
   "version": "3.8.5"
  }
 },
 "nbformat": 4,
 "nbformat_minor": 4
}
