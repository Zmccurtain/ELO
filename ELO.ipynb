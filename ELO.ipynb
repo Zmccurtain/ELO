{
 "cells": [
  {
   "cell_type": "code",
   "execution_count": 1,
   "metadata": {},
   "outputs": [],
   "source": [
    "import math\n",
    "import random\n",
    "import matplotlib.pyplot as plt\n",
    "import numpy as np\n",
    "import Roster"
   ]
  },
  {
   "cell_type": "code",
   "execution_count": 6,
   "metadata": {},
   "outputs": [],
   "source": [
    "def ELO(Won, Lost):\n",
    "    roster = Roster.oRoster()\n",
    "    winTotal = 0\n",
    "    for i in Won:\n",
    "        winTotal += roster[i]\n",
    "    winAverage = winTotal/5\n",
    "    \n",
    "    \n",
    "    \n",
    "    loseTotal = 0\n",
    "    for i in Lost:\n",
    "        loseTotal += roster[i]\n",
    "    loseAverage = loseTotal/5\n",
    "    \n",
    "    \n",
    "    \n",
    "    difference = loseAverage - winAverage\n",
    "    print(difference)\n",
    "    for i in Won:\n",
    "        roster[i] += f(difference)\n",
    "    for i in Lost:\n",
    "        roster[i] -= f(difference)\n",
    "    Roster.Edit(roster)"
   ]
  },
  {
   "cell_type": "code",
   "execution_count": 3,
   "metadata": {},
   "outputs": [],
   "source": [
    "def f(x):\n",
    "    #return (math.log(abs(x)+1) *20 + 30) - (math.log(( (abs(x)-x) /2)+1)*24 - 20)\n",
    "    return (x**3)/100000000 + 100"
   ]
  },
  {
   "cell_type": "code",
   "execution_count": 9,
   "metadata": {},
   "outputs": [
    {
     "name": "stdout",
     "output_type": "stream",
     "text": [
      "99.97667199999978\n",
      "{'10slayer': 1300.0, 'aijinxed': 900.0, 'AmericanHussar': 1200.0, 'Cade': 1300.0, 'chibikitty': 600.0483269967675, 'ColinJH': 1000.0, 'CyborgSteve': 1600.0683130032326, 'Daniel': 1700.0, 'GentileBanan': 1099.9516730032324, 'Imperialpayload': 800.0, 'Inugami': 1299.9316869967674, 'Ksiu': 2300.0, 'SexiMexi247': 1400.0, 'Trick Live': 1400.0, 'Xerelic': 1400.0, 'Kevalon': 1599.9516730032324, 'eledessil': 1399.9316869967674, 'maxorri': 400.06831300323245, 'Kreinash': 1199.9316869967674, 'Nraddlygew': 1000.0, 'Azaki': 1000.0483269967676, 'D3F3CTIVE': 1300.0683130032326}\n"
     ]
    }
   ],
   "source": []
  }
 ],
 "metadata": {
  "kernelspec": {
   "display_name": "Python 3",
   "language": "python",
   "name": "python3"
  },
  "language_info": {
   "codemirror_mode": {
    "name": "ipython",
    "version": 3
   },
   "file_extension": ".py",
   "mimetype": "text/x-python",
   "name": "python",
   "nbconvert_exporter": "python",
   "pygments_lexer": "ipython3",
   "version": "3.8.5"
  }
 },
 "nbformat": 4,
 "nbformat_minor": 4
}
