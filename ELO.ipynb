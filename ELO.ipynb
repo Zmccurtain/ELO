{
 "cells": [
  {
   "cell_type": "code",
   "execution_count": 25,
   "metadata": {
    "scrolled": true
   },
   "outputs": [],
   "source": [
    "#Most of this file was written personally before this project,\n",
    "#although parts of it are heavily modfied to work with the changes need for this project.\n",
    "import math\n",
    "import random\n",
    "import matplotlib.pyplot as plt\n",
    "import numpy as np\n",
    "import Roster"
   ]
  },
  {
   "cell_type": "code",
   "execution_count": 26,
   "metadata": {},
   "outputs": [],
   "source": [
    "def ELO(Won, Lost, first=False):\n",
    "    fullRoster = Roster.oRoster(\"c\")\n",
    "    roster = {}\n",
    "    for name in fullRoster:\n",
    "        roster[name] = fullRoster[name][0]\n",
    "    if first:\n",
    "        Roster.Edit(\"l\", fullRoster)\n",
    "    winTotal = 0\n",
    "    for i in Won:\n",
    "        if i in roster:\n",
    "            winTotal += roster[i]\n",
    "        else:\n",
    "            winTotal += 1000\n",
    "    winAverage = winTotal/5\n",
    "    \n",
    "    \n",
    "    \n",
    "    loseTotal = 0\n",
    "    for i in Lost:\n",
    "        if i in roster:\n",
    "            loseTotal += roster[i]\n",
    "        else:\n",
    "            loseTotal += 1000\n",
    "    loseAverage = loseTotal/5\n",
    "    \n",
    "    \n",
    "    \n",
    "    difference = loseAverage - winAverage\n",
    "    for i in Won:\n",
    "        if i in roster:\n",
    "            roster[i] += f(difference)\n",
    "    for i in Lost:\n",
    "        if i in roster:\n",
    "            roster[i] -= f(difference)\n",
    "    for name in roster:\n",
    "        fullRoster[name] = [roster[name], fullRoster[name][1]]\n",
    "    Roster.Edit(\"c\", fullRoster)"
   ]
  },
  {
   "cell_type": "code",
   "execution_count": 27,
   "metadata": {},
   "outputs": [],
   "source": [
    "def f(x):\n",
    "    #return (math.log(abs(x)+1) *20 + 30) - (math.log(( (abs(x)-x) /2)+1)*24 - 20)\n",
    "    return (x**3)/400000000 + x**2/100000 + x/10 + 200"
   ]
  },
  {
   "cell_type": "code",
   "execution_count": null,
   "metadata": {
    "scrolled": true
   },
   "outputs": [],
   "source": []
  },
  {
   "cell_type": "code",
   "execution_count": null,
   "metadata": {},
   "outputs": [],
   "source": []
  },
  {
   "cell_type": "code",
   "execution_count": 28,
   "metadata": {},
   "outputs": [],
   "source": [
    "Roster.Reset()\n",
    "ELO(Won = [\"Kevalon\",\"eledessil\", \"Kreinash\",\"Inugami\",\"GentileBanan\"], Lost = [\"D3F3CTIVE\",\"CyborgSteve\",\"chibikitty\",\"Azaki\",\"maxorri\"], first = True)\n",
    "ELO(Won = [\"D3F3CTIVE\",\"Kevalon\",\"CyborgSteve\",\"maxorri\",\"GentileBanan\"],Lost = [\"Inugami\",\"eledessil\",\"chibikitty\",\"Azaki\",\"Kreinash\"])\n",
    "ELO(Won = [\"Azaki\", \"CyborgSteve\", \"D3F3CTIVE\", \"Inugami\", \"GentileBanan\"], Lost = [\"Kevalon\", \"10slayer\", \"Kreinash\", \"AmericanHussar\", \"chibikitty\"])\n",
    "\n",
    "ELO(Won = [\"Inugami\",\"chibikitty\",\"xerelic\",\"Kreinash\",\"10slayer\"],Lost = [\"Spaz\",\"maxorri\",\"youtubepoop234\",\"Azaki\",\"GentileBanan\"])\n",
    "ELO(Won = [\"Inugami\", \"chibikitty\", \"GentileBanan\", \"Kreinash\", \"Azaki\"], Lost = [\"10slayer\", \"maxorri\", \"youtubepoop234\", \"Coliflower\", \"Spaz\"])\n",
    "ELO(Won = [\"D3F3CTIVE\",\"Coliflower\",\"AmericanHussar\",\"chibikitty\",\"Inugami\"],Lost = [\"10slayer\",\"maxorri\",\"Spaz\",\"GentileBanan\",\"Kreinash\"])\n",
    "\n",
    "ELO(Won = [\"PhantasticTigers\",\"youtubepoop234\",\"Kreinash\",\"Star Rise\",\"Xlerate\"],Lost = [\"Kevalon\",\"Coliflower\",\"GentileBanan\",\"CyborgSteve\",\"chibikitty\"], first = True)\n",
    "ELO(Won = [\"Kevalon\",\"youtubepoop234\",\"Kreinash\",\"CyborgSteve\",\"GentileBanan\"],Lost = [\"QuadNut420\",\"Xlerate\",\"D3F3CTIVE\",\"Star Rise\",\"chibikitty\"])\n",
    "\n",
    "ELO(Won = [\"Coliflower\",\"CyborgSteve\",\"Kreinash\",\"Inugami\",\"xerelic\"],Lost = [\"Kevalon\",\"DaFearlessCookie\",\"HunterSquared\",\"10slayer\",\"Wilmeister\"], first = True)\n",
    "ELO(Won = [\"Kevalon\",\"CyborgSteve\",\"HunterSquared\",\"Azaki\",\"Kreinash\"],Lost = [\"Coliflower\",\"DaFearlessCookie\",\"xerelic\",\"10slayer\",\"Wilmeister\"])\n",
    "\n",
    "ELO(Won = [\"Coliflower\",\"CyborgSteve\",\"Spaz\",\"Wilmeister\",\"xerelic\"],Lost = [\"GentileBanan\",\"youtubepoop234\",\"RockTank10\",\"10slayer\",\"Inugami\"], first = True)\n",
    "ELO(Won = [\"GentileBanan\",\"xerelic\",\"Kreinash\",\"Inugami\",\"Wilmeister\"],Lost = [\"CyborgSteve\",\"Spaz\",\"youtubepoop234\",\"HunterSquared\",\"Coliflower\"])\n",
    "\n",
    "ELO(Won = [\"Inugami\",\"HunterSquared\",\"Kreinash\",\"Wilmeister\",\"chibikitty\"],Lost = [\"oink oink\",\"Spaz\",\"RockTank10\",\"AmericanHussar\",\"Coliflower\"])\n",
    "ELO(Won = [\"Inugami\",\"oink oink\",\"Kreinash\",\"RockTank10\",\"chibikitty\"],Lost = [\"Coliflower\",\"AmericanHussar\",\"Wilmeister\",\"HunterSquared\",\"Idiotinc\"])\n",
    "\n",
    "ELO(Won = [\"Inugami\",\"HunterSquared\",\"D3F3CTIVE\",\"Second Shot\",\"youtubepoop234\"],Lost = [\"Kevalon\",\"Wilmeister\",\"10slayer\",\"CyborgSteve\",\"GentileBanan\"])\n",
    "ELO(Won = [\"Kevalon\",\"CyborgSteve\",\"youtubepoop234\",\"Inugami\",\"D3F3CTIVE\"],Lost = [\"Coliflower\",\"Wilmeister\",\"10slayer\",\"HunterSquared\",\"Second Shot\"])\n",
    "\n",
    "ELO(Won = ['youtubepoop234', 'xerelic', 'Rocktank10', 'GentileBanan', 'HunterSquared'], Lost = ['AmericanHussar', 'CyborgSteve', 'Kreinash', 'Inugami', 'Wilmeister'], first = True)\n",
    "ELO(Won = ['GentileBanan', 'CyborgSteve', 'HunterSquared', 'Rocktank10', 'xerelic'], Lost = ['D3F3CTIVE', 'AmericanHussar', 'Inugami', 'Wilmeister', 'youtubepoop234'])\n",
    "\n",
    "ELO(Won = ['GentileBanan', 'CyborgSteve', 'HunterSquared', 'Inugami', 'AmericanHussar'], Lost = ['D3F3CTIVE', 'Kevalon', 'Coliflower', '10slayer', 'Azaki'])\n",
    "ELO(Won = ['CyborgSteve', 'Coliflower', 'xerelic', 'AmericanHussar'], Lost = ['Kevalon', 'HunterSquared', 'GentileBanan'], first = False)\n",
    "\n"
   ]
  }
 ],
 "metadata": {
  "kernelspec": {
   "display_name": "Python 3",
   "language": "python",
   "name": "python3"
  },
  "language_info": {
   "codemirror_mode": {
    "name": "ipython",
    "version": 3
   },
   "file_extension": ".py",
   "mimetype": "text/x-python",
   "name": "python",
   "nbconvert_exporter": "python",
   "pygments_lexer": "ipython3",
   "version": "3.8.5"
  }
 },
 "nbformat": 4,
 "nbformat_minor": 4
}
