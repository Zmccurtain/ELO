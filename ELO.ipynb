{
 "cells": [
  {
   "cell_type": "code",
   "execution_count": 5,
   "metadata": {},
   "outputs": [],
   "source": [
    "import math\n",
    "import random\n",
    "import matplotlib.pyplot as plt\n",
    "import numpy as np\n",
    "import Roster"
   ]
  },
  {
   "cell_type": "code",
   "execution_count": 6,
   "metadata": {},
   "outputs": [],
   "source": [
    "def ELO(Won, Lost):\n",
    "    roster = Roster.oRoster()\n",
    "    winTotal = 0\n",
    "    for i in Won:\n",
    "        winTotal += roster[i]\n",
    "    winAverage = winTotal/5\n",
    "    \n",
    "    \n",
    "    \n",
    "    loseTotal = 0\n",
    "    for i in Lost:\n",
    "        loseTotal += roster[i]\n",
    "    loseAverage = loseTotal/5\n",
    "    \n",
    "    \n",
    "    \n",
    "    difference = loseAverage - winAverage\n",
    "    for i in Won:\n",
    "        roster[i] += f(difference)\n",
    "    for i in Lost:\n",
    "        roster[i] -= f(difference)\n",
    "    Roster.Edit(roster)"
   ]
  },
  {
   "cell_type": "code",
   "execution_count": 7,
   "metadata": {},
   "outputs": [],
   "source": [
    "def f(x):\n",
    "    #return (math.log(abs(x)+1) *20 + 30) - (math.log(( (abs(x)-x) /2)+1)*24 - 20)\n",
    "    return (x**3)/100000000 + 100"
   ]
  },
  {
   "cell_type": "code",
   "execution_count": 8,
   "metadata": {},
   "outputs": [
    {
     "name": "stdout",
     "output_type": "stream",
     "text": [
      "{'10slayer': 1585.3995475852864, 'aijinxed': 614.6004524147138, 'AmericanHussar': 1485.3995475852864, 'Cade': 1585.3995475852864, 'chibikitty': 514.6004524147138, 'ColinJH': 714.6004524147138, 'CyborgSteve': 1885.3995475852864, 'Daniel': 1985.3995475852864, 'GentileBanan': 514.6004524147138, 'Imperialpayload': 514.6004524147138, 'Inugami': 1300.0, 'Ksiu': 2300.0, 'SexiMexi247': 1400.0, 'Trick Live': 1400.0, 'Xerelic': 1400.0, 'Kevalon': 1400.0}\n"
     ]
    }
   ],
   "source": [
    "ELO([\"10slayer\", \"CyborgSteve\", \"AmericanHussar\", \"Cade\", \"Daniel\"],\n",
    "    [\"ColinJH\", \"aijinxed\",\"chibikitty\" , \"GentileBanan\",  \"Imperialpayload\"])"
   ]
  }
 ],
 "metadata": {
  "kernelspec": {
   "display_name": "Python 3",
   "language": "python",
   "name": "python3"
  },
  "language_info": {
   "codemirror_mode": {
    "name": "ipython",
    "version": 3
   },
   "file_extension": ".py",
   "mimetype": "text/x-python",
   "name": "python",
   "nbconvert_exporter": "python",
   "pygments_lexer": "ipython3",
   "version": "3.8.5"
  }
 },
 "nbformat": 4,
 "nbformat_minor": 4
}
